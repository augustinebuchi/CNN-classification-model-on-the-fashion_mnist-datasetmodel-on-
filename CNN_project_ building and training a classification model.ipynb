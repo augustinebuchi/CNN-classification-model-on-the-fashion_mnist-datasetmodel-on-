{
 "cells": [
  {
   "cell_type": "code",
   "execution_count": 2,
   "id": "67e2ec60",
   "metadata": {},
   "outputs": [],
   "source": [
    "import numpy as np"
   ]
  },
  {
   "cell_type": "code",
   "execution_count": 3,
   "id": "a1596a09",
   "metadata": {},
   "outputs": [],
   "source": [
    "import pandas as pd"
   ]
  },
  {
   "cell_type": "code",
   "execution_count": 4,
   "id": "789264c1",
   "metadata": {},
   "outputs": [],
   "source": [
    "import matplotlib as mpl"
   ]
  },
  {
   "cell_type": "code",
   "execution_count": 5,
   "id": "a2b9c27d",
   "metadata": {},
   "outputs": [],
   "source": [
    "import matplotlib.pyplot as plt"
   ]
  },
  {
   "cell_type": "code",
   "execution_count": 6,
   "id": "b11801a2",
   "metadata": {},
   "outputs": [],
   "source": [
    "import tensorflow as tf"
   ]
  },
  {
   "cell_type": "code",
   "execution_count": 7,
   "id": "f8bd640e",
   "metadata": {},
   "outputs": [],
   "source": [
    "from tensorflow import keras"
   ]
  },
  {
   "cell_type": "code",
   "execution_count": 8,
   "id": "d6489ae2",
   "metadata": {},
   "outputs": [
    {
     "data": {
      "text/plain": [
       "'2.8.0'"
      ]
     },
     "execution_count": 8,
     "metadata": {},
     "output_type": "execute_result"
    }
   ],
   "source": [
    "keras.__version__"
   ]
  },
  {
   "cell_type": "raw",
   "id": "25b4535b",
   "metadata": {},
   "source": [
    "tf.__version__"
   ]
  },
  {
   "cell_type": "code",
   "execution_count": 9,
   "id": "ed893f17",
   "metadata": {},
   "outputs": [],
   "source": [
    "fashion_mnist = keras.datasets.fashion_mnist\n",
    "(x_train_full, y_train_full), (x_test, y_test) = fashion_mnist.load_data()"
   ]
  },
  {
   "cell_type": "code",
   "execution_count": 10,
   "id": "80304e8d",
   "metadata": {},
   "outputs": [
    {
     "data": {
      "text/plain": [
       "'2.8.0'"
      ]
     },
     "execution_count": 10,
     "metadata": {},
     "output_type": "execute_result"
    }
   ],
   "source": [
    "tf.__version__"
   ]
  },
  {
   "cell_type": "code",
   "execution_count": 11,
   "id": "a3373f57",
   "metadata": {},
   "outputs": [
    {
     "data": {
      "text/plain": [
       "'2.8.0'"
      ]
     },
     "execution_count": 11,
     "metadata": {},
     "output_type": "execute_result"
    }
   ],
   "source": [
    "tf.__version__"
   ]
  },
  {
   "cell_type": "code",
   "execution_count": 12,
   "id": "5a202f4e",
   "metadata": {},
   "outputs": [
    {
     "data": {
      "text/plain": [
       "<matplotlib.image.AxesImage at 0x2a7aed256d0>"
      ]
     },
     "execution_count": 12,
     "metadata": {},
     "output_type": "execute_result"
    },
    {
     "data": {
      "image/png": "[encoded data removed]",
      "text/plain": [
       "<Figure size 432x288 with 1 Axes>"
      ]
     },
     "metadata": {
      "needs_background": "light"
     },
     "output_type": "display_data"
    }
   ],
   "source": [
    "plt.imshow(x_train_full[9])"
   ]
  },
  {
   "cell_type": "code",
   "execution_count": 13,
   "id": "cbe061c7",
   "metadata": {},
   "outputs": [
    {
     "data": {
      "text/plain": [
       "5"
      ]
     },
     "execution_count": 13,
     "metadata": {},
     "output_type": "execute_result"
    }
   ],
   "source": [
    "y_train_full[9]"
   ]
  },
  {
   "cell_type": "code",
   "execution_count": 14,
   "id": "0e14afa6",
   "metadata": {},
   "outputs": [],
   "source": [
    "class_names = [\"T-Shirt/Top\", \"Trouser\", \"Pull_over\", \"Dress\", \"Coat\", \"Sandal\", \"Shirt\", \n",
    "              \"Sneaker\", \"Bag\", \"Ankle_boot\"]"
   ]
  },
  {
   "cell_type": "code",
   "execution_count": 15,
   "id": "87888417",
   "metadata": {},
   "outputs": [
    {
     "data": {
      "text/plain": [
       "'Sandal'"
      ]
     },
     "execution_count": 15,
     "metadata": {},
     "output_type": "execute_result"
    }
   ],
   "source": [
    "class_names[y_train_full[9]]"
   ]
  },
  {
   "cell_type": "code",
   "execution_count": 16,
   "id": "87136a34",
   "metadata": {},
   "outputs": [
    {
     "data": {
      "text/plain": [
       "'T-Shirt/Top'"
      ]
     },
     "execution_count": 16,
     "metadata": {},
     "output_type": "execute_result"
    }
   ],
   "source": [
    "class_names[y_train_full[1]]"
   ]
  },
  {
   "cell_type": "code",
   "execution_count": 17,
   "id": "dab1b6d0",
   "metadata": {},
   "outputs": [
    {
     "data": {
      "text/plain": [
       "array([[  0,   0,   0,   0,   0,   0,   0,  11, 142, 200, 106,   0,   0,\n",
       "          0,   0,   0,   0,   0,  85, 185, 112,   0,   0,   0,   0,   0,\n",
       "          0,   0],\n",
       "       [  0,   0,   0,   0,   0,   0, 152, 214, 217, 194, 236, 216, 187,\n",
       "        149, 135, 153, 211, 217, 231, 205, 217, 188,  34,   0,   0,   0,\n",
       "          0,   0],\n",
       "       [  0,   0,   0,   0,   0,  66, 185, 166, 180, 181, 190, 211, 221,\n",
       "        197, 146, 198, 206, 191, 168, 190, 172, 188, 175,   0,   0,   0,\n",
       "          0,   0],\n",
       "       [  0,   0,   0,   0,   0, 135, 153, 160, 175, 180, 170, 186, 187,\n",
       "        190, 188, 190, 187, 174, 195, 185, 174, 161, 175,  59,   0,   0,\n",
       "          0,   0],\n",
       "       [  0,   0,   0,   0,   0, 161, 147, 160, 170, 178, 177, 180, 168,\n",
       "        173, 174, 171, 185, 184, 185, 172, 171, 164, 174, 120,   0,   0,\n",
       "          0,   0],\n",
       "       [  0,   0,   0,   0,   2, 175, 146, 145, 168, 178, 181, 185, 180,\n",
       "        184, 178, 179, 187, 191, 193, 190, 181, 171, 172, 158,   0,   0,\n",
       "          0,   0],\n",
       "       [  0,   0,   0,   0,  35, 177, 155, 140, 151, 172, 191, 187, 186,\n",
       "        187, 186, 187, 182, 191, 194, 188, 180, 161, 161, 185,   0,   0,\n",
       "          0,   0],\n",
       "       [  0,   0,   0,   0,  59, 170, 153, 141, 120, 154, 160, 161, 172,\n",
       "        168, 166, 161, 165, 172, 170, 164, 139, 149, 162, 166,  21,   0,\n",
       "          0,   0],\n",
       "       [  0,   0,   0,   0,  79, 145, 160, 214, 123, 128, 153, 160, 164,\n",
       "        158, 157, 154, 155, 170, 165, 141, 195, 193, 152, 166,  61,   0,\n",
       "          0,   0],\n",
       "       [  0,   0,   0,   0, 100, 157, 225, 245, 175, 113, 174, 158, 158,\n",
       "        160, 155, 160, 164, 178, 188, 135, 185, 240, 201, 172, 108,   0,\n",
       "          0,   0],\n",
       "       [  0,   0,   0,   0,   0,  31, 174,  28, 126, 153, 166, 152, 158,\n",
       "        158, 160, 161, 157, 168, 191, 188,  18, 132, 159,   7,   0,   0,\n",
       "          0,   0],\n",
       "       [  0,   0,   0,   0,   0,   0,   0,   0,  82, 187, 159, 153, 157,\n",
       "        158, 162, 164, 164, 154, 187, 190,   0,   0,   0,   0,   0,   0,\n",
       "          0,   0],\n",
       "       [  0,   0,   0,   0,   1,   3,   5,   0,  37, 175, 158, 155, 162,\n",
       "        158, 160, 162, 165, 153, 177, 205,   0,   0,   3,   3,   0,   0,\n",
       "          0,   0],\n",
       "       [  0,   0,   0,   0,   0,   0,   1,   0,  25, 175, 152, 160, 158,\n",
       "        161, 160, 164, 164, 161, 166, 200,   0,   0,   1,   0,   0,   0,\n",
       "          0,   0],\n",
       "       [  0,   0,   0,   0,   0,   0,   4,   0,  30, 171, 147, 164, 155,\n",
       "        165, 161, 165, 162, 170, 164, 162,   0,   0,   2,   0,   0,   0,\n",
       "          0,   0],\n",
       "       [  0,   0,   0,   0,   0,   0,   4,   0,  57, 166, 155, 164, 166,\n",
       "        161, 161, 164, 167, 165, 165, 162,  28,   0,   3,   0,   0,   0,\n",
       "          0,   0],\n",
       "       [  0,   0,   0,   0,   0,   0,   3,   0, 114, 161, 161, 166, 159,\n",
       "        168, 161, 161, 172, 162, 165, 171,  50,   0,   5,   0,   0,   0,\n",
       "          0,   0],\n",
       "       [  0,   0,   0,   0,   0,   0,   1,   0, 149, 157, 167, 172, 159,\n",
       "        172, 164, 161, 172, 170, 160, 171,  89,   0,   4,   0,   0,   0,\n",
       "          0,   0],\n",
       "       [  0,   0,   0,   0,   0,   2,   0,   4, 171, 164, 166, 173, 159,\n",
       "        179, 166, 160, 174, 167, 162, 166, 128,   0,   2,   0,   0,   0,\n",
       "          0,   0],\n",
       "       [  0,   0,   0,   0,   0,   3,   0,  18, 152, 173, 160, 179, 154,\n",
       "        181, 166, 164, 175, 170, 166, 170, 164,   0,   0,   1,   0,   0,\n",
       "          0,   0],\n",
       "       [  0,   0,   0,   0,   0,   4,   0,  47, 165, 172, 167, 185, 153,\n",
       "        187, 173, 165, 174, 179, 166, 166, 158,   5,   0,   3,   0,   0,\n",
       "          0,   0],\n",
       "       [  0,   0,   0,   0,   0,   4,   0,  87, 180, 162, 179, 179, 157,\n",
       "        191, 182, 165, 168, 190, 173, 165, 166,  20,   0,   4,   0,   0,\n",
       "          0,   0],\n",
       "       [  0,   0,   0,   0,   0,   4,   0, 105, 187, 157, 194, 175, 161,\n",
       "        190, 184, 170, 158, 205, 177, 168, 171,  44,   0,   4,   0,   0,\n",
       "          0,   0],\n",
       "       [  0,   0,   0,   0,   0,   5,   0, 138, 181, 158, 205, 160, 167,\n",
       "        190, 198, 167, 152, 218, 186, 170, 172,  57,   0,   5,   0,   0,\n",
       "          0,   0],\n",
       "       [  0,   0,   0,   0,   0,   5,   0, 135, 174, 167, 199, 155, 166,\n",
       "        201, 219, 165, 158, 218, 188, 167, 175,  56,   0,   7,   0,   0,\n",
       "          0,   0],\n",
       "       [  0,   0,   0,   0,   0,   5,   0, 129, 171, 172, 177, 153, 159,\n",
       "        206, 216, 148, 157, 206, 190, 165, 175,  48,   0,   5,   0,   0,\n",
       "          0,   0],\n",
       "       [  0,   0,   0,   0,   0,   5,   0, 167, 187, 182, 198, 194, 200,\n",
       "        226, 240, 184, 206, 255, 197, 178, 179,  42,   0,   5,   0,   0,\n",
       "          0,   0],\n",
       "       [  0,   0,   0,   0,   0,   3,   0, 115, 135, 113, 106,  85,  82,\n",
       "        108, 133,  83,  90, 121, 120, 110, 158,  18,   0,   3,   0,   0,\n",
       "          0,   0]], dtype=uint8)"
      ]
     },
     "execution_count": 17,
     "metadata": {},
     "output_type": "execute_result"
    }
   ],
   "source": [
    "x_train_full[10]"
   ]
  },
  {
   "cell_type": "code",
   "execution_count": 18,
   "id": "e5391913",
   "metadata": {},
   "outputs": [],
   "source": [
    "x_train_n = x_train_full/255\n",
    "x_test_n = x_test/255"
   ]
  },
  {
   "cell_type": "code",
   "execution_count": 19,
   "id": "722afd19",
   "metadata": {},
   "outputs": [],
   "source": [
    "x_valid, x_train = x_train_n[:5000], x_train_n[5000:]\n",
    "y_valid, y_train = y_train_full[:5000], y_train_full[5000:]\n",
    "x_test = x_test_n"
   ]
  },
  {
   "cell_type": "code",
   "execution_count": 20,
   "id": "ae9ae0f9",
   "metadata": {},
   "outputs": [
    {
     "data": {
      "text/plain": [
       "array([[0.        , 0.        , 0.        , 0.        , 0.        ,\n",
       "        0.        , 0.        , 0.17254902, 0.21568627, 0.37647059,\n",
       "        0.78823529, 0.1372549 , 0.        , 0.        , 0.        ,\n",
       "        0.        , 0.        , 0.23529412, 0.72156863, 0.20784314,\n",
       "        0.19607843, 0.06666667, 0.        , 0.        , 0.        ,\n",
       "        0.        , 0.        , 0.        ],\n",
       "       [0.        , 0.        , 0.        , 0.        , 0.        ,\n",
       "        0.        , 0.35686275, 0.40784314, 0.3254902 , 0.17254902,\n",
       "        0.70196078, 0.95294118, 0.83921569, 0.61176471, 0.58039216,\n",
       "        0.83137255, 0.97254902, 1.        , 0.72156863, 0.15686275,\n",
       "        0.3372549 , 0.42745098, 0.30588235, 0.        , 0.        ,\n",
       "        0.        , 0.        , 0.        ],\n",
       "       [0.        , 0.        , 0.        , 0.        , 0.        ,\n",
       "        0.29411765, 0.55686275, 0.19607843, 0.29411765, 0.23529412,\n",
       "        0.08235294, 0.38431373, 0.83137255, 0.8745098 , 0.73333333,\n",
       "        0.90980392, 0.83137255, 0.36862745, 0.01568627, 0.22352941,\n",
       "        0.25490196, 0.21568627, 0.56078431, 0.27843137, 0.        ,\n",
       "        0.        , 0.        , 0.        ],\n",
       "       [0.        , 0.        , 0.        , 0.        , 0.        ,\n",
       "        0.41960784, 0.52941176, 0.36470588, 0.24705882, 0.24705882,\n",
       "        0.21568627, 0.10588235, 0.11372549, 0.38431373, 0.43921569,\n",
       "        0.22745098, 0.14509804, 0.0745098 , 0.20784314, 0.22745098,\n",
       "        0.23529412, 0.34509804, 0.47843137, 0.43921569, 0.        ,\n",
       "        0.        , 0.        , 0.        ],\n",
       "       [0.        , 0.        , 0.        , 0.        , 0.        ,\n",
       "        0.60784314, 0.45490196, 0.41568627, 0.27843137, 0.24313725,\n",
       "        0.19215686, 0.24705882, 0.19215686, 0.13333333, 0.12156863,\n",
       "        0.1372549 , 0.19607843, 0.24705882, 0.21568627, 0.22745098,\n",
       "        0.25490196, 0.42745098, 0.44705882, 0.58823529, 0.        ,\n",
       "        0.        , 0.        , 0.        ],\n",
       "       [0.        , 0.        , 0.        , 0.        , 0.        ,\n",
       "        0.57647059, 0.54117647, 0.38823529, 0.37647059, 0.24705882,\n",
       "        0.24313725, 0.20784314, 0.14509804, 0.18431373, 0.19215686,\n",
       "        0.10588235, 0.1254902 , 0.19607843, 0.22352941, 0.25490196,\n",
       "        0.31372549, 0.41568627, 0.52941176, 0.59607843, 0.00392157,\n",
       "        0.        , 0.        , 0.        ],\n",
       "       [0.        , 0.        , 0.        , 0.        , 0.20392157,\n",
       "        0.58039216, 0.41568627, 0.45882353, 0.3254902 , 0.30588235,\n",
       "        0.13333333, 0.13333333, 0.23529412, 0.20392157, 0.22745098,\n",
       "        0.2745098 , 0.22352941, 0.13333333, 0.19607843, 0.2627451 ,\n",
       "        0.2745098 , 0.45490196, 0.41568627, 0.57647059, 0.18431373,\n",
       "        0.        , 0.        , 0.        ],\n",
       "       [0.        , 0.        , 0.        , 0.        , 0.50588235,\n",
       "        0.48627451, 0.39607843, 0.60784314, 0.51764706, 0.4       ,\n",
       "        0.2745098 , 0.2745098 , 0.21568627, 0.19607843, 0.14509804,\n",
       "        0.14509804, 0.24313725, 0.34901961, 0.16470588, 0.33333333,\n",
       "        0.46666667, 0.58823529, 0.45490196, 0.47843137, 0.47058824,\n",
       "        0.        , 0.        , 0.        ],\n",
       "       [0.        , 0.        , 0.        , 0.        , 0.29411765,\n",
       "        0.50588235, 0.56078431, 0.94117647, 0.66666667, 0.44705882,\n",
       "        0.34901961, 0.15686275, 0.14509804, 0.17647059, 0.19215686,\n",
       "        0.19607843, 0.13333333, 0.20784314, 0.38431373, 0.34509804,\n",
       "        0.61176471, 0.93333333, 0.54901961, 0.50980392, 0.29803922,\n",
       "        0.        , 0.        , 0.        ],\n",
       "       [0.        , 0.        , 0.        , 0.        , 0.        ,\n",
       "        0.        , 0.06666667, 0.85098039, 0.88235294, 0.40784314,\n",
       "        0.38823529, 0.36862745, 0.19215686, 0.23529412, 0.19607843,\n",
       "        0.2627451 , 0.2627451 , 0.27843137, 0.34901961, 0.25490196,\n",
       "        0.83137255, 0.8745098 , 0.06666667, 0.        , 0.        ,\n",
       "        0.        , 0.        , 0.        ],\n",
       "       [0.        , 0.        , 0.        , 0.        , 0.        ,\n",
       "        0.        , 0.        , 0.13333333, 0.70980392, 0.41568627,\n",
       "        0.29411765, 0.45882353, 0.16470588, 0.1254902 , 0.28627451,\n",
       "        0.18431373, 0.11372549, 0.37647059, 0.3254902 , 0.4       ,\n",
       "        0.67058824, 0.15294118, 0.        , 0.        , 0.        ,\n",
       "        0.        , 0.        , 0.        ],\n",
       "       [0.        , 0.        , 0.        , 0.        , 0.        ,\n",
       "        0.00392157, 0.        , 0.12156863, 0.69803922, 0.47058824,\n",
       "        0.26666667, 0.43529412, 0.38431373, 0.03137255, 0.16470588,\n",
       "        0.29411765, 0.20392157, 0.20784314, 0.23529412, 0.45882353,\n",
       "        0.68235294, 0.12156863, 0.        , 0.01176471, 0.        ,\n",
       "        0.        , 0.        , 0.        ],\n",
       "       [0.        , 0.        , 0.        , 0.        , 0.        ,\n",
       "        0.00392157, 0.        , 0.03137255, 0.63921569, 0.47843137,\n",
       "        0.34509804, 0.23529412, 0.41960784, 0.45882353, 0.30588235,\n",
       "        0.47843137, 0.36862745, 0.25490196, 0.24705882, 0.47058824,\n",
       "        0.65882353, 0.01568627, 0.        , 0.00392157, 0.        ,\n",
       "        0.        , 0.        , 0.        ],\n",
       "       [0.        , 0.        , 0.        , 0.        , 0.        ,\n",
       "        0.00392157, 0.        , 0.        , 0.57647059, 0.44705882,\n",
       "        0.42745098, 0.39607843, 0.24705882, 0.24705882, 0.41568627,\n",
       "        0.19215686, 0.15686275, 0.39607843, 0.4       , 0.39607843,\n",
       "        0.6       , 0.        , 0.        , 0.00392157, 0.        ,\n",
       "        0.        , 0.        , 0.        ],\n",
       "       [0.        , 0.        , 0.        , 0.        , 0.        ,\n",
       "        0.        , 0.        , 0.        , 0.49803922, 0.42745098,\n",
       "        0.40784314, 0.49019608, 0.41960784, 0.3254902 , 0.40784314,\n",
       "        0.35686275, 0.38431373, 0.41960784, 0.40784314, 0.38823529,\n",
       "        0.51764706, 0.        , 0.        , 0.        , 0.        ,\n",
       "        0.        , 0.        , 0.        ],\n",
       "       [0.        , 0.        , 0.        , 0.        , 0.        ,\n",
       "        0.        , 0.        , 0.        , 0.45490196, 0.45882353,\n",
       "        0.43921569, 0.43921569, 0.42745098, 0.42745098, 0.46666667,\n",
       "        0.4       , 0.39607843, 0.4       , 0.4       , 0.41568627,\n",
       "        0.44705882, 0.        , 0.        , 0.        , 0.        ,\n",
       "        0.        , 0.        , 0.        ],\n",
       "       [0.        , 0.        , 0.        , 0.        , 0.        ,\n",
       "        0.        , 0.        , 0.        , 0.46666667, 0.43921569,\n",
       "        0.41960784, 0.43529412, 0.43529412, 0.38431373, 0.44705882,\n",
       "        0.36862745, 0.36862745, 0.41960784, 0.39607843, 0.40784314,\n",
       "        0.45882353, 0.        , 0.        , 0.        , 0.        ,\n",
       "        0.        , 0.        , 0.        ],\n",
       "       [0.        , 0.        , 0.        , 0.        , 0.        ,\n",
       "        0.        , 0.        , 0.        , 0.44705882, 0.43529412,\n",
       "        0.42745098, 0.43529412, 0.44705882, 0.40784314, 0.45882353,\n",
       "        0.40784314, 0.38431373, 0.41960784, 0.43921569, 0.39607843,\n",
       "        0.45882353, 0.        , 0.        , 0.00392157, 0.        ,\n",
       "        0.        , 0.        , 0.        ],\n",
       "       [0.        , 0.        , 0.        , 0.        , 0.        ,\n",
       "        0.00392157, 0.        , 0.03137255, 0.46666667, 0.43529412,\n",
       "        0.43529412, 0.42745098, 0.44705882, 0.40784314, 0.46666667,\n",
       "        0.41960784, 0.38823529, 0.41960784, 0.45882353, 0.37647059,\n",
       "        0.46666667, 0.03529412, 0.        , 0.        , 0.        ,\n",
       "        0.        , 0.        , 0.        ],\n",
       "       [0.        , 0.        , 0.        , 0.        , 0.        ,\n",
       "        0.00392157, 0.        , 0.15294118, 0.48627451, 0.4       ,\n",
       "        0.44705882, 0.44705882, 0.41568627, 0.39607843, 0.47058824,\n",
       "        0.41960784, 0.38431373, 0.41960784, 0.42745098, 0.36862745,\n",
       "        0.45882353, 0.20392157, 0.        , 0.        , 0.        ,\n",
       "        0.        , 0.        , 0.        ],\n",
       "       [0.        , 0.        , 0.        , 0.        , 0.        ,\n",
       "        0.00392157, 0.        , 0.20784314, 0.48627451, 0.39607843,\n",
       "        0.44705882, 0.45490196, 0.41568627, 0.42745098, 0.47058824,\n",
       "        0.43921569, 0.4       , 0.38823529, 0.45490196, 0.38431373,\n",
       "        0.42745098, 0.34509804, 0.        , 0.        , 0.        ,\n",
       "        0.        , 0.        , 0.        ],\n",
       "       [0.        , 0.        , 0.        , 0.        , 0.        ,\n",
       "        0.        , 0.        , 0.29803922, 0.44705882, 0.40784314,\n",
       "        0.41960784, 0.41960784, 0.4       , 0.39607843, 0.44705882,\n",
       "        0.43921569, 0.4       , 0.37647059, 0.47058824, 0.36862745,\n",
       "        0.42745098, 0.38823529, 0.        , 0.        , 0.        ,\n",
       "        0.        , 0.        , 0.        ],\n",
       "       [0.        , 0.        , 0.        , 0.        , 0.        ,\n",
       "        0.        , 0.        , 0.34901961, 0.41960784, 0.4       ,\n",
       "        0.41960784, 0.43529412, 0.41960784, 0.4       , 0.43529412,\n",
       "        0.42745098, 0.4       , 0.37647059, 0.43921569, 0.38823529,\n",
       "        0.43529412, 0.41568627, 0.        , 0.        , 0.        ,\n",
       "        0.        , 0.        , 0.        ],\n",
       "       [0.        , 0.        , 0.        , 0.        , 0.        ,\n",
       "        0.        , 0.        , 0.36862745, 0.38431373, 0.36862745,\n",
       "        0.41960784, 0.42745098, 0.41568627, 0.41568627, 0.43921569,\n",
       "        0.41960784, 0.36862745, 0.4       , 0.47058824, 0.42745098,\n",
       "        0.37647059, 0.44705882, 0.        , 0.        , 0.        ,\n",
       "        0.        , 0.        , 0.        ],\n",
       "       [0.        , 0.        , 0.        , 0.        , 0.        ,\n",
       "        0.        , 0.        , 0.36862745, 0.37647059, 0.39607843,\n",
       "        0.41568627, 0.4       , 0.40784314, 0.40784314, 0.43921569,\n",
       "        0.43921569, 0.37647059, 0.38823529, 0.43921569, 0.45490196,\n",
       "        0.38823529, 0.41960784, 0.        , 0.        , 0.        ,\n",
       "        0.        , 0.        , 0.        ],\n",
       "       [0.        , 0.        , 0.        , 0.        , 0.        ,\n",
       "        0.        , 0.        , 0.40784314, 0.38431373, 0.38431373,\n",
       "        0.4       , 0.38431373, 0.39607843, 0.38823529, 0.40784314,\n",
       "        0.42745098, 0.36470588, 0.38823529, 0.38431373, 0.41960784,\n",
       "        0.40784314, 0.47843137, 0.        , 0.        , 0.00392157,\n",
       "        0.        , 0.        , 0.        ],\n",
       "       [0.        , 0.        , 0.        , 0.        , 0.        ,\n",
       "        0.        , 0.        , 0.23529412, 0.41568627, 0.45882353,\n",
       "        0.43529412, 0.41960784, 0.40784314, 0.4       , 0.44705882,\n",
       "        0.46666667, 0.39607843, 0.45490196, 0.45490196, 0.52941176,\n",
       "        0.45490196, 0.3372549 , 0.        , 0.        , 0.00392157,\n",
       "        0.        , 0.        , 0.        ],\n",
       "       [0.        , 0.        , 0.        , 0.        , 0.        ,\n",
       "        0.        , 0.        , 0.        , 0.        , 0.1372549 ,\n",
       "        0.23529412, 0.30588235, 0.34509804, 0.38431373, 0.39607843,\n",
       "        0.40784314, 0.31764706, 0.25490196, 0.21568627, 0.1372549 ,\n",
       "        0.        , 0.        , 0.        , 0.        , 0.        ,\n",
       "        0.        , 0.        , 0.        ]])"
      ]
     },
     "execution_count": 20,
     "metadata": {},
     "output_type": "execute_result"
    }
   ],
   "source": [
    "x_train[1]"
   ]
  },
  {
   "cell_type": "code",
   "execution_count": 21,
   "id": "8ec82790",
   "metadata": {},
   "outputs": [
    {
     "data": {
      "text/plain": [
       "array([[0.        , 0.        , 0.        , 0.        , 0.        ,\n",
       "        0.00392157, 0.        , 0.        , 0.        , 0.        ,\n",
       "        0.16078431, 0.7372549 , 0.40392157, 0.21176471, 0.18823529,\n",
       "        0.16862745, 0.34117647, 0.65882353, 0.52156863, 0.0627451 ,\n",
       "        0.        , 0.        , 0.        , 0.        , 0.        ,\n",
       "        0.        , 0.        , 0.        ],\n",
       "       [0.        , 0.        , 0.        , 0.00392157, 0.        ,\n",
       "        0.        , 0.        , 0.19215686, 0.53333333, 0.85882353,\n",
       "        0.84705882, 0.89411765, 0.9254902 , 1.        , 1.        ,\n",
       "        1.        , 1.        , 0.85098039, 0.84313725, 0.99607843,\n",
       "        0.90588235, 0.62745098, 0.17647059, 0.        , 0.        ,\n",
       "        0.        , 0.        , 0.        ],\n",
       "       [0.        , 0.        , 0.        , 0.        , 0.        ,\n",
       "        0.05490196, 0.69019608, 0.87058824, 0.87843137, 0.83137255,\n",
       "        0.79607843, 0.77647059, 0.76862745, 0.78431373, 0.84313725,\n",
       "        0.8       , 0.79215686, 0.78823529, 0.78823529, 0.78823529,\n",
       "        0.81960784, 0.85490196, 0.87843137, 0.64313725, 0.        ,\n",
       "        0.        , 0.        , 0.        ],\n",
       "       [0.        , 0.        , 0.        , 0.        , 0.        ,\n",
       "        0.7372549 , 0.85882353, 0.78431373, 0.77647059, 0.79215686,\n",
       "        0.77647059, 0.78039216, 0.78039216, 0.78823529, 0.76862745,\n",
       "        0.77647059, 0.77647059, 0.78431373, 0.78431373, 0.78431373,\n",
       "        0.78431373, 0.78823529, 0.78431373, 0.88235294, 0.16078431,\n",
       "        0.        , 0.        , 0.        ],\n",
       "       [0.        , 0.        , 0.        , 0.        , 0.2       ,\n",
       "        0.85882353, 0.78039216, 0.79607843, 0.79607843, 0.83137255,\n",
       "        0.93333333, 0.97254902, 0.98039216, 0.96078431, 0.97647059,\n",
       "        0.96470588, 0.96862745, 0.98823529, 0.97254902, 0.92156863,\n",
       "        0.81176471, 0.79607843, 0.79607843, 0.87058824, 0.54901961,\n",
       "        0.        , 0.        , 0.        ],\n",
       "       [0.        , 0.        , 0.        , 0.        , 0.45490196,\n",
       "        0.88627451, 0.80784314, 0.8       , 0.81176471, 0.8       ,\n",
       "        0.39607843, 0.29411765, 0.18431373, 0.28627451, 0.18823529,\n",
       "        0.19607843, 0.17647059, 0.2       , 0.24705882, 0.44313725,\n",
       "        0.87058824, 0.79215686, 0.80784314, 0.8627451 , 0.87843137,\n",
       "        0.        , 0.        , 0.        ],\n",
       "       [0.        , 0.        , 0.        , 0.        , 0.78431373,\n",
       "        0.87058824, 0.81960784, 0.79607843, 0.84313725, 0.78431373,\n",
       "        0.        , 0.2745098 , 0.38431373, 0.        , 0.40392157,\n",
       "        0.23137255, 0.26666667, 0.27843137, 0.19215686, 0.        ,\n",
       "        0.85882353, 0.80784314, 0.83921569, 0.82352941, 0.98039216,\n",
       "        0.14901961, 0.        , 0.        ],\n",
       "       [0.        , 0.        , 0.        , 0.        , 0.96862745,\n",
       "        0.85490196, 0.83137255, 0.82352941, 0.84313725, 0.83921569,\n",
       "        0.        , 0.99607843, 0.95294118, 0.54509804, 1.        ,\n",
       "        0.68235294, 0.98431373, 1.        , 0.80392157, 0.        ,\n",
       "        0.84313725, 0.85098039, 0.83921569, 0.81568627, 0.8627451 ,\n",
       "        0.37254902, 0.        , 0.        ],\n",
       "       [0.        , 0.        , 0.        , 0.17647059, 0.88627451,\n",
       "        0.83921569, 0.83921569, 0.84313725, 0.87843137, 0.80392157,\n",
       "        0.        , 0.16470588, 0.1372549 , 0.23529412, 0.0627451 ,\n",
       "        0.06666667, 0.04705882, 0.05098039, 0.2745098 , 0.        ,\n",
       "        0.74117647, 0.84705882, 0.83137255, 0.80784314, 0.83137255,\n",
       "        0.61176471, 0.        , 0.        ],\n",
       "       [0.        , 0.        , 0.        , 0.64313725, 0.92156863,\n",
       "        0.83921569, 0.82745098, 0.8627451 , 0.84705882, 0.78823529,\n",
       "        0.20392157, 0.27843137, 0.34901961, 0.36862745, 0.3254902 ,\n",
       "        0.30588235, 0.2745098 , 0.29803922, 0.36078431, 0.34117647,\n",
       "        0.80784314, 0.81176471, 0.87058824, 0.83529412, 0.85882353,\n",
       "        0.81568627, 0.        , 0.        ],\n",
       "       [0.        , 0.        , 0.        , 0.41568627, 0.73333333,\n",
       "        0.8745098 , 0.92941176, 0.97254902, 0.82745098, 0.77647059,\n",
       "        0.98823529, 0.98039216, 0.97254902, 0.96078431, 0.97254902,\n",
       "        0.98823529, 0.99215686, 0.98039216, 0.98823529, 0.9372549 ,\n",
       "        0.78823529, 0.83137255, 0.88235294, 0.84313725, 0.75686275,\n",
       "        0.44313725, 0.        , 0.        ],\n",
       "       [0.        , 0.        , 0.        , 0.        , 0.        ,\n",
       "        0.06666667, 0.21176471, 0.62352941, 0.87058824, 0.75686275,\n",
       "        0.81568627, 0.75294118, 0.77254902, 0.78431373, 0.78431373,\n",
       "        0.78431373, 0.78431373, 0.78823529, 0.79607843, 0.76470588,\n",
       "        0.82352941, 0.64705882, 0.        , 0.        , 0.        ,\n",
       "        0.        , 0.        , 0.        ],\n",
       "       [0.        , 0.        , 0.        , 0.        , 0.        ,\n",
       "        0.        , 0.        , 0.18431373, 0.88235294, 0.75294118,\n",
       "        0.83921569, 0.79607843, 0.80784314, 0.8       , 0.8       ,\n",
       "        0.80392157, 0.80784314, 0.8       , 0.83137255, 0.77254902,\n",
       "        0.85490196, 0.41960784, 0.        , 0.        , 0.        ,\n",
       "        0.        , 0.        , 0.        ],\n",
       "       [0.        , 0.        , 0.        , 0.        , 0.00392157,\n",
       "        0.02352941, 0.        , 0.18039216, 0.83137255, 0.76470588,\n",
       "        0.83137255, 0.79215686, 0.80784314, 0.80392157, 0.8       ,\n",
       "        0.80392157, 0.80784314, 0.8       , 0.83137255, 0.78431373,\n",
       "        0.85490196, 0.35686275, 0.        , 0.01176471, 0.00392157,\n",
       "        0.        , 0.        , 0.        ],\n",
       "       [0.        , 0.        , 0.        , 0.        , 0.        ,\n",
       "        0.00392157, 0.        , 0.04313725, 0.77254902, 0.78039216,\n",
       "        0.80392157, 0.79215686, 0.80392157, 0.80784314, 0.8       ,\n",
       "        0.80392157, 0.81176471, 0.8       , 0.80392157, 0.80392157,\n",
       "        0.85490196, 0.30196078, 0.        , 0.01960784, 0.        ,\n",
       "        0.        , 0.        , 0.        ],\n",
       "       [0.        , 0.        , 0.        , 0.        , 0.        ,\n",
       "        0.01176471, 0.        , 0.00784314, 0.74901961, 0.77647059,\n",
       "        0.78823529, 0.80392157, 0.80784314, 0.80392157, 0.80392157,\n",
       "        0.80784314, 0.81960784, 0.80784314, 0.78039216, 0.81960784,\n",
       "        0.85882353, 0.29019608, 0.        , 0.01960784, 0.        ,\n",
       "        0.        , 0.        , 0.        ],\n",
       "       [0.        , 0.        , 0.        , 0.        , 0.        ,\n",
       "        0.00784314, 0.        , 0.        , 0.7372549 , 0.77254902,\n",
       "        0.78431373, 0.81176471, 0.81176471, 0.8       , 0.81176471,\n",
       "        0.81176471, 0.82352941, 0.81568627, 0.77647059, 0.81176471,\n",
       "        0.86666667, 0.28235294, 0.        , 0.01568627, 0.        ,\n",
       "        0.        , 0.        , 0.        ],\n",
       "       [0.        , 0.        , 0.        , 0.        , 0.        ,\n",
       "        0.00784314, 0.        , 0.        , 0.84313725, 0.77647059,\n",
       "        0.79607843, 0.80784314, 0.81568627, 0.80392157, 0.81176471,\n",
       "        0.81176471, 0.82352941, 0.81568627, 0.78431373, 0.79215686,\n",
       "        0.87058824, 0.29411765, 0.        , 0.01568627, 0.        ,\n",
       "        0.        , 0.        , 0.        ],\n",
       "       [0.        , 0.        , 0.        , 0.        , 0.        ,\n",
       "        0.00392157, 0.        , 0.        , 0.83137255, 0.77647059,\n",
       "        0.81960784, 0.80784314, 0.81960784, 0.80784314, 0.81568627,\n",
       "        0.81176471, 0.82745098, 0.80784314, 0.80392157, 0.77647059,\n",
       "        0.86666667, 0.31372549, 0.        , 0.01176471, 0.        ,\n",
       "        0.        , 0.        , 0.        ],\n",
       "       [0.        , 0.        , 0.        , 0.        , 0.        ,\n",
       "        0.00392157, 0.        , 0.        , 0.8       , 0.78823529,\n",
       "        0.80392157, 0.81568627, 0.81176471, 0.80392157, 0.82745098,\n",
       "        0.80392157, 0.82352941, 0.82352941, 0.81960784, 0.76470588,\n",
       "        0.86666667, 0.37647059, 0.        , 0.01176471, 0.        ,\n",
       "        0.        , 0.        , 0.        ],\n",
       "       [0.        , 0.        , 0.        , 0.        , 0.        ,\n",
       "        0.00392157, 0.        , 0.        , 0.79215686, 0.78823529,\n",
       "        0.80392157, 0.81960784, 0.81176471, 0.80392157, 0.83529412,\n",
       "        0.80784314, 0.82352941, 0.81960784, 0.82352941, 0.76078431,\n",
       "        0.85098039, 0.41176471, 0.        , 0.00784314, 0.        ,\n",
       "        0.        , 0.        , 0.        ],\n",
       "       [0.        , 0.        , 0.        , 0.        , 0.        ,\n",
       "        0.00392157, 0.        , 0.        , 0.8       , 0.8       ,\n",
       "        0.80392157, 0.81568627, 0.81176471, 0.80392157, 0.84313725,\n",
       "        0.81176471, 0.82352941, 0.81568627, 0.82745098, 0.75686275,\n",
       "        0.83529412, 0.45098039, 0.        , 0.00784314, 0.        ,\n",
       "        0.        , 0.        , 0.        ],\n",
       "       [0.        , 0.        , 0.        , 0.        , 0.        ,\n",
       "        0.        , 0.        , 0.        , 0.8       , 0.81176471,\n",
       "        0.81176471, 0.81568627, 0.80784314, 0.80784314, 0.84313725,\n",
       "        0.82352941, 0.82352941, 0.81176471, 0.83137255, 0.76470588,\n",
       "        0.82352941, 0.4627451 , 0.        , 0.00784314, 0.        ,\n",
       "        0.        , 0.        , 0.        ],\n",
       "       [0.        , 0.        , 0.        , 0.        , 0.        ,\n",
       "        0.00392157, 0.        , 0.        , 0.77647059, 0.81568627,\n",
       "        0.81568627, 0.81568627, 0.8       , 0.81176471, 0.83137255,\n",
       "        0.83137255, 0.82352941, 0.81176471, 0.82745098, 0.76862745,\n",
       "        0.81176471, 0.4745098 , 0.        , 0.00392157, 0.        ,\n",
       "        0.        , 0.        , 0.        ],\n",
       "       [0.        , 0.        , 0.        , 0.        , 0.        ,\n",
       "        0.00392157, 0.        , 0.        , 0.77647059, 0.82352941,\n",
       "        0.81176471, 0.81568627, 0.80784314, 0.81960784, 0.83529412,\n",
       "        0.83137255, 0.82745098, 0.81176471, 0.82352941, 0.77254902,\n",
       "        0.81176471, 0.48627451, 0.        , 0.00392157, 0.        ,\n",
       "        0.        , 0.        , 0.        ],\n",
       "       [0.        , 0.        , 0.        , 0.        , 0.        ,\n",
       "        0.        , 0.        , 0.        , 0.6745098 , 0.82352941,\n",
       "        0.79607843, 0.78823529, 0.78039216, 0.8       , 0.81176471,\n",
       "        0.80392157, 0.8       , 0.78823529, 0.80392157, 0.77254902,\n",
       "        0.80784314, 0.49803922, 0.        , 0.        , 0.        ,\n",
       "        0.        , 0.        , 0.        ],\n",
       "       [0.        , 0.        , 0.        , 0.        , 0.        ,\n",
       "        0.        , 0.        , 0.        , 0.7372549 , 0.86666667,\n",
       "        0.83921569, 0.91764706, 0.9254902 , 0.93333333, 0.95686275,\n",
       "        0.95686275, 0.95686275, 0.94117647, 0.95294118, 0.83921569,\n",
       "        0.87843137, 0.63529412, 0.        , 0.00784314, 0.        ,\n",
       "        0.        , 0.        , 0.        ],\n",
       "       [0.        , 0.        , 0.        , 0.        , 0.        ,\n",
       "        0.00392157, 0.        , 0.        , 0.54509804, 0.57254902,\n",
       "        0.50980392, 0.52941176, 0.52941176, 0.5372549 , 0.49019608,\n",
       "        0.48627451, 0.49019608, 0.4745098 , 0.46666667, 0.44705882,\n",
       "        0.50980392, 0.29803922, 0.        , 0.        , 0.        ,\n",
       "        0.        , 0.        , 0.        ]])"
      ]
     },
     "execution_count": 21,
     "metadata": {},
     "output_type": "execute_result"
    }
   ],
   "source": [
    "x_valid[1]"
   ]
  },
  {
   "cell_type": "code",
   "execution_count": 22,
   "id": "643d0f2a",
   "metadata": {},
   "outputs": [],
   "source": [
    "np.random.seed(1)\n",
    "tf.random.set_seed(1)"
   ]
  },
  {
   "cell_type": "code",
   "execution_count": 23,
   "id": "b54c7911",
   "metadata": {},
   "outputs": [],
   "source": [
    "cm = keras.models.Sequential()\n",
    "cm.add(keras.layers.Flatten(input_shape = [28,28]))\n",
    "cm.add(keras.layers.Dense(300, activation = \"relu\"))\n",
    "cm.add(keras.layers.Dense(100, activation = \"relu\"))\n",
    "cm.add(keras.layers.Dense(10, activation = \"softmax\"))"
   ]
  },
  {
   "cell_type": "code",
   "execution_count": 24,
   "id": "72a3b1c9",
   "metadata": {},
   "outputs": [
    {
     "name": "stdout",
     "output_type": "stream",
     "text": [
      "Model: \"sequential\"\n",
      "_________________________________________________________________\n",
      " Layer (type)                Output Shape              Param #   \n",
      "=================================================================\n",
      " flatten (Flatten)           (None, 784)               0         \n",
      "                                                                 \n",
      " dense (Dense)               (None, 300)               235500    \n",
      "                                                                 \n",
      " dense_1 (Dense)             (None, 100)               30100     \n",
      "                                                                 \n",
      " dense_2 (Dense)             (None, 10)                1010      \n",
      "                                                                 \n",
      "=================================================================\n",
      "Total params: 266,610\n",
      "Trainable params: 266,610\n",
      "Non-trainable params: 0\n",
      "_________________________________________________________________\n"
     ]
    }
   ],
   "source": [
    "cm.summary()"
   ]
  },
  {
   "cell_type": "code",
   "execution_count": 25,
   "id": "1a181b49",
   "metadata": {},
   "outputs": [],
   "source": [
    "cm.history"
   ]
  },
  {
   "cell_type": "code",
   "execution_count": 26,
   "id": "3d003d3f",
   "metadata": {},
   "outputs": [
    {
     "data": {
      "image/png": "[encoded data removed]",
      "text/plain": [
       "<IPython.core.display.Image object>"
      ]
     },
     "execution_count": 26,
     "metadata": {},
     "output_type": "execute_result"
    }
   ],
   "source": [
    "import pydot\n",
    "keras.utils.plot_model(cm)"
   ]
  },
  {
   "cell_type": "code",
   "execution_count": 27,
   "id": "8b6685ae",
   "metadata": {},
   "outputs": [],
   "source": [
    "weights, biases = cm.layers[1].get_weights()"
   ]
  },
  {
   "cell_type": "code",
   "execution_count": 28,
   "id": "3bdfef7f",
   "metadata": {},
   "outputs": [
    {
     "data": {
      "text/plain": [
       "array([[-0.04982716,  0.05973877,  0.01948842, ..., -0.07257763,\n",
       "        -0.05851479,  0.04424296],\n",
       "       [ 0.01499677, -0.07298556, -0.05936338, ...,  0.0493416 ,\n",
       "        -0.05404767, -0.03356587],\n",
       "       [-0.05879639, -0.07330709,  0.06862256, ..., -0.02101308,\n",
       "        -0.01236651, -0.04332558],\n",
       "       ...,\n",
       "       [-0.03560071,  0.06593272, -0.04384982, ...,  0.01457816,\n",
       "        -0.02349673, -0.01453468],\n",
       "       [ 0.02042743, -0.03673213,  0.05241668, ..., -0.0619605 ,\n",
       "         0.00912771,  0.05725372],\n",
       "       [ 0.00533278, -0.00955868, -0.01690329, ..., -0.03420294,\n",
       "        -0.00445458, -0.03286909]], dtype=float32)"
      ]
     },
     "execution_count": 28,
     "metadata": {},
     "output_type": "execute_result"
    }
   ],
   "source": [
    "weights"
   ]
  },
  {
   "cell_type": "code",
   "execution_count": 29,
   "id": "8681ef85",
   "metadata": {},
   "outputs": [
    {
     "data": {
      "text/plain": [
       "array([0., 0., 0., 0., 0., 0., 0., 0., 0., 0., 0., 0., 0., 0., 0., 0., 0.,\n",
       "       0., 0., 0., 0., 0., 0., 0., 0., 0., 0., 0., 0., 0., 0., 0., 0., 0.,\n",
       "       0., 0., 0., 0., 0., 0., 0., 0., 0., 0., 0., 0., 0., 0., 0., 0., 0.,\n",
       "       0., 0., 0., 0., 0., 0., 0., 0., 0., 0., 0., 0., 0., 0., 0., 0., 0.,\n",
       "       0., 0., 0., 0., 0., 0., 0., 0., 0., 0., 0., 0., 0., 0., 0., 0., 0.,\n",
       "       0., 0., 0., 0., 0., 0., 0., 0., 0., 0., 0., 0., 0., 0., 0., 0., 0.,\n",
       "       0., 0., 0., 0., 0., 0., 0., 0., 0., 0., 0., 0., 0., 0., 0., 0., 0.,\n",
       "       0., 0., 0., 0., 0., 0., 0., 0., 0., 0., 0., 0., 0., 0., 0., 0., 0.,\n",
       "       0., 0., 0., 0., 0., 0., 0., 0., 0., 0., 0., 0., 0., 0., 0., 0., 0.,\n",
       "       0., 0., 0., 0., 0., 0., 0., 0., 0., 0., 0., 0., 0., 0., 0., 0., 0.,\n",
       "       0., 0., 0., 0., 0., 0., 0., 0., 0., 0., 0., 0., 0., 0., 0., 0., 0.,\n",
       "       0., 0., 0., 0., 0., 0., 0., 0., 0., 0., 0., 0., 0., 0., 0., 0., 0.,\n",
       "       0., 0., 0., 0., 0., 0., 0., 0., 0., 0., 0., 0., 0., 0., 0., 0., 0.,\n",
       "       0., 0., 0., 0., 0., 0., 0., 0., 0., 0., 0., 0., 0., 0., 0., 0., 0.,\n",
       "       0., 0., 0., 0., 0., 0., 0., 0., 0., 0., 0., 0., 0., 0., 0., 0., 0.,\n",
       "       0., 0., 0., 0., 0., 0., 0., 0., 0., 0., 0., 0., 0., 0., 0., 0., 0.,\n",
       "       0., 0., 0., 0., 0., 0., 0., 0., 0., 0., 0., 0., 0., 0., 0., 0., 0.,\n",
       "       0., 0., 0., 0., 0., 0., 0., 0., 0., 0., 0.], dtype=float32)"
      ]
     },
     "execution_count": 29,
     "metadata": {},
     "output_type": "execute_result"
    }
   ],
   "source": [
    "biases"
   ]
  },
  {
   "cell_type": "code",
   "execution_count": 30,
   "id": "acfa1fe3",
   "metadata": {},
   "outputs": [
    {
     "data": {
      "text/plain": [
       "(784, 300)"
      ]
     },
     "execution_count": 30,
     "metadata": {},
     "output_type": "execute_result"
    }
   ],
   "source": [
    "weights.shape"
   ]
  },
  {
   "cell_type": "code",
   "execution_count": 31,
   "id": "c0a3f470",
   "metadata": {},
   "outputs": [
    {
     "data": {
      "text/plain": [
       "(300,)"
      ]
     },
     "execution_count": 31,
     "metadata": {},
     "output_type": "execute_result"
    }
   ],
   "source": [
    "biases.shape"
   ]
  },
  {
   "cell_type": "code",
   "execution_count": 32,
   "id": "c7351e13",
   "metadata": {},
   "outputs": [],
   "source": [
    "cm.compile(loss = \"sparse_categorical_crossentropy\",\n",
    "          optimizer = \"sgd\",\n",
    "          metrics = \"accuracy\")"
   ]
  },
  {
   "cell_type": "code",
   "execution_count": 33,
   "id": "18852527",
   "metadata": {},
   "outputs": [
    {
     "name": "stdout",
     "output_type": "stream",
     "text": [
      "Epoch 1/50\n",
      "1719/1719 [==============================] - 9s 5ms/step - loss: 0.7149 - accuracy: 0.7641 - val_loss: 0.5320 - val_accuracy: 0.8176\n",
      "Epoch 2/50\n",
      "1719/1719 [==============================] - 7s 4ms/step - loss: 0.4899 - accuracy: 0.8296 - val_loss: 0.4406 - val_accuracy: 0.8506\n",
      "Epoch 3/50\n",
      "1719/1719 [==============================] - 8s 5ms/step - loss: 0.4452 - accuracy: 0.8450 - val_loss: 0.4193 - val_accuracy: 0.8582\n",
      "Epoch 4/50\n",
      "1719/1719 [==============================] - 8s 5ms/step - loss: 0.4181 - accuracy: 0.8546 - val_loss: 0.3954 - val_accuracy: 0.8640\n",
      "Epoch 5/50\n",
      "1719/1719 [==============================] - 8s 5ms/step - loss: 0.3996 - accuracy: 0.8593 - val_loss: 0.3871 - val_accuracy: 0.8652\n",
      "Epoch 6/50\n",
      "1719/1719 [==============================] - 8s 5ms/step - loss: 0.3829 - accuracy: 0.8653 - val_loss: 0.3716 - val_accuracy: 0.8716\n",
      "Epoch 7/50\n",
      "1719/1719 [==============================] - 8s 5ms/step - loss: 0.3692 - accuracy: 0.8683 - val_loss: 0.3853 - val_accuracy: 0.8652\n",
      "Epoch 8/50\n",
      "1719/1719 [==============================] - 9s 5ms/step - loss: 0.3559 - accuracy: 0.8726 - val_loss: 0.3656 - val_accuracy: 0.8702\n",
      "Epoch 9/50\n",
      "1719/1719 [==============================] - 8s 5ms/step - loss: 0.3452 - accuracy: 0.8773 - val_loss: 0.3506 - val_accuracy: 0.8770\n",
      "Epoch 10/50\n",
      "1719/1719 [==============================] - 8s 5ms/step - loss: 0.3358 - accuracy: 0.8808 - val_loss: 0.3515 - val_accuracy: 0.8786\n",
      "Epoch 11/50\n",
      "1719/1719 [==============================] - 8s 5ms/step - loss: 0.3271 - accuracy: 0.8842 - val_loss: 0.3446 - val_accuracy: 0.8708\n",
      "Epoch 12/50\n",
      "1719/1719 [==============================] - 8s 4ms/step - loss: 0.3183 - accuracy: 0.8853 - val_loss: 0.3316 - val_accuracy: 0.8820\n",
      "Epoch 13/50\n",
      "1719/1719 [==============================] - 7s 4ms/step - loss: 0.3114 - accuracy: 0.8883 - val_loss: 0.3556 - val_accuracy: 0.8712\n",
      "Epoch 14/50\n",
      "1719/1719 [==============================] - 7s 4ms/step - loss: 0.3051 - accuracy: 0.8906 - val_loss: 0.3379 - val_accuracy: 0.8796\n",
      "Epoch 15/50\n",
      "1719/1719 [==============================] - 7s 4ms/step - loss: 0.2984 - accuracy: 0.8931 - val_loss: 0.3220 - val_accuracy: 0.8836\n",
      "Epoch 16/50\n",
      "1719/1719 [==============================] - 7s 4ms/step - loss: 0.2920 - accuracy: 0.8944 - val_loss: 0.3152 - val_accuracy: 0.8860\n",
      "Epoch 17/50\n",
      "1719/1719 [==============================] - 7s 4ms/step - loss: 0.2866 - accuracy: 0.8964 - val_loss: 0.3169 - val_accuracy: 0.8874\n",
      "Epoch 18/50\n",
      "1719/1719 [==============================] - 7s 4ms/step - loss: 0.2808 - accuracy: 0.8980 - val_loss: 0.3125 - val_accuracy: 0.8852\n",
      "Epoch 19/50\n",
      "1719/1719 [==============================] - 8s 5ms/step - loss: 0.2759 - accuracy: 0.9006 - val_loss: 0.3082 - val_accuracy: 0.8900\n",
      "Epoch 20/50\n",
      "1719/1719 [==============================] - 8s 5ms/step - loss: 0.2700 - accuracy: 0.9032 - val_loss: 0.3419 - val_accuracy: 0.8706\n",
      "Epoch 21/50\n",
      "1719/1719 [==============================] - 8s 5ms/step - loss: 0.2660 - accuracy: 0.9041 - val_loss: 0.3256 - val_accuracy: 0.8822\n",
      "Epoch 22/50\n",
      "1719/1719 [==============================] - 8s 5ms/step - loss: 0.2611 - accuracy: 0.9060 - val_loss: 0.3391 - val_accuracy: 0.8788\n",
      "Epoch 23/50\n",
      "1719/1719 [==============================] - 11s 6ms/step - loss: 0.2564 - accuracy: 0.9077 - val_loss: 0.3011 - val_accuracy: 0.8934\n",
      "Epoch 24/50\n",
      "1719/1719 [==============================] - 8s 5ms/step - loss: 0.2523 - accuracy: 0.9091 - val_loss: 0.3124 - val_accuracy: 0.8862\n",
      "Epoch 25/50\n",
      "1719/1719 [==============================] - 9s 5ms/step - loss: 0.2482 - accuracy: 0.9110 - val_loss: 0.3097 - val_accuracy: 0.8880\n",
      "Epoch 26/50\n",
      "1719/1719 [==============================] - 8s 5ms/step - loss: 0.2433 - accuracy: 0.9127 - val_loss: 0.3005 - val_accuracy: 0.8924\n",
      "Epoch 27/50\n",
      "1719/1719 [==============================] - 9s 5ms/step - loss: 0.2404 - accuracy: 0.9136 - val_loss: 0.3225 - val_accuracy: 0.8866\n",
      "Epoch 28/50\n",
      "1719/1719 [==============================] - 9s 5ms/step - loss: 0.2350 - accuracy: 0.9147 - val_loss: 0.3090 - val_accuracy: 0.8886\n",
      "Epoch 29/50\n",
      "1719/1719 [==============================] - 8s 5ms/step - loss: 0.2323 - accuracy: 0.9165 - val_loss: 0.3050 - val_accuracy: 0.8896\n",
      "Epoch 30/50\n",
      "1719/1719 [==============================] - 8s 5ms/step - loss: 0.2276 - accuracy: 0.9169 - val_loss: 0.3252 - val_accuracy: 0.8840\n",
      "Epoch 31/50\n",
      "1719/1719 [==============================] - 8s 5ms/step - loss: 0.2253 - accuracy: 0.9190 - val_loss: 0.3018 - val_accuracy: 0.8928\n",
      "Epoch 32/50\n",
      "1719/1719 [==============================] - 10s 6ms/step - loss: 0.2211 - accuracy: 0.9211 - val_loss: 0.3022 - val_accuracy: 0.8906\n",
      "Epoch 33/50\n",
      "1719/1719 [==============================] - 12s 7ms/step - loss: 0.2173 - accuracy: 0.9217 - val_loss: 0.3138 - val_accuracy: 0.8908\n",
      "Epoch 34/50\n",
      "1719/1719 [==============================] - 12s 7ms/step - loss: 0.2139 - accuracy: 0.9231 - val_loss: 0.3114 - val_accuracy: 0.8908\n",
      "Epoch 35/50\n",
      "1719/1719 [==============================] - 11s 6ms/step - loss: 0.2117 - accuracy: 0.9240 - val_loss: 0.2900 - val_accuracy: 0.8996\n",
      "Epoch 36/50\n",
      "1719/1719 [==============================] - 10s 6ms/step - loss: 0.2075 - accuracy: 0.9257 - val_loss: 0.3221 - val_accuracy: 0.8904\n",
      "Epoch 37/50\n",
      "1719/1719 [==============================] - 9s 5ms/step - loss: 0.2041 - accuracy: 0.9276 - val_loss: 0.2950 - val_accuracy: 0.8958\n",
      "Epoch 38/50\n",
      "1719/1719 [==============================] - 10s 6ms/step - loss: 0.1996 - accuracy: 0.9290 - val_loss: 0.2982 - val_accuracy: 0.8950\n",
      "Epoch 39/50\n",
      "1719/1719 [==============================] - 11s 7ms/step - loss: 0.1980 - accuracy: 0.9286 - val_loss: 0.2929 - val_accuracy: 0.8956\n",
      "Epoch 40/50\n",
      "1719/1719 [==============================] - 10s 6ms/step - loss: 0.1941 - accuracy: 0.9309 - val_loss: 0.3022 - val_accuracy: 0.8912\n",
      "Epoch 41/50\n",
      "1719/1719 [==============================] - 12s 7ms/step - loss: 0.1925 - accuracy: 0.9306 - val_loss: 0.3027 - val_accuracy: 0.8922\n",
      "Epoch 42/50\n",
      "1719/1719 [==============================] - 9s 5ms/step - loss: 0.1885 - accuracy: 0.9324 - val_loss: 0.3027 - val_accuracy: 0.8954\n",
      "Epoch 43/50\n",
      "1719/1719 [==============================] - 9s 5ms/step - loss: 0.1850 - accuracy: 0.9341 - val_loss: 0.3041 - val_accuracy: 0.8946\n",
      "Epoch 44/50\n",
      "1719/1719 [==============================] - 8s 5ms/step - loss: 0.1832 - accuracy: 0.9349 - val_loss: 0.2914 - val_accuracy: 0.8966\n",
      "Epoch 45/50\n",
      "1719/1719 [==============================] - 9s 5ms/step - loss: 0.1800 - accuracy: 0.9358 - val_loss: 0.3056 - val_accuracy: 0.8928\n",
      "Epoch 46/50\n",
      "1719/1719 [==============================] - 12s 7ms/step - loss: 0.1765 - accuracy: 0.9363 - val_loss: 0.2958 - val_accuracy: 0.8938\n",
      "Epoch 47/50\n",
      "1719/1719 [==============================] - 12s 7ms/step - loss: 0.1734 - accuracy: 0.9380 - val_loss: 0.2983 - val_accuracy: 0.8944\n",
      "Epoch 48/50\n",
      "1719/1719 [==============================] - 9s 5ms/step - loss: 0.1707 - accuracy: 0.9399 - val_loss: 0.3002 - val_accuracy: 0.8972\n",
      "Epoch 49/50\n",
      "1719/1719 [==============================] - 9s 5ms/step - loss: 0.1684 - accuracy: 0.9403 - val_loss: 0.3031 - val_accuracy: 0.8966\n",
      "Epoch 50/50\n",
      "1719/1719 [==============================] - 10s 6ms/step - loss: 0.1655 - accuracy: 0.9414 - val_loss: 0.2981 - val_accuracy: 0.8956\n"
     ]
    }
   ],
   "source": [
    "cm_history = cm.fit(x_train, y_train, epochs = 50,\n",
    "                   validation_data = (x_valid, y_valid))"
   ]
  },
  {
   "cell_type": "code",
   "execution_count": 34,
   "id": "b0bc2e99",
   "metadata": {},
   "outputs": [
    {
     "data": {
      "text/plain": [
       "{'loss': [0.7148920297622681,\n",
       "  0.48987385630607605,\n",
       "  0.44516757130622864,\n",
       "  0.4180503189563751,\n",
       "  0.3995721936225891,\n",
       "  0.38294634222984314,\n",
       "  0.36918172240257263,\n",
       "  0.35592591762542725,\n",
       "  0.3452192544937134,\n",
       "  0.33578208088874817,\n",
       "  0.32707101106643677,\n",
       "  0.3182823359966278,\n",
       "  0.3113757371902466,\n",
       "  0.305095911026001,\n",
       "  0.29841524362564087,\n",
       "  0.2919696867465973,\n",
       "  0.28660693764686584,\n",
       "  0.28075191378593445,\n",
       "  0.27590546011924744,\n",
       "  0.2700032889842987,\n",
       "  0.2660490870475769,\n",
       "  0.2611348628997803,\n",
       "  0.2563815712928772,\n",
       "  0.2522870600223541,\n",
       "  0.24822954833507538,\n",
       "  0.2433020919561386,\n",
       "  0.2404489368200302,\n",
       "  0.23504237830638885,\n",
       "  0.2323153167963028,\n",
       "  0.22756284475326538,\n",
       "  0.22525422275066376,\n",
       "  0.22107796370983124,\n",
       "  0.21728098392486572,\n",
       "  0.21385884284973145,\n",
       "  0.21165528893470764,\n",
       "  0.20754891633987427,\n",
       "  0.2040756791830063,\n",
       "  0.19961974024772644,\n",
       "  0.19796301424503326,\n",
       "  0.19414062798023224,\n",
       "  0.19254565238952637,\n",
       "  0.18850372731685638,\n",
       "  0.18498021364212036,\n",
       "  0.1832318902015686,\n",
       "  0.18004107475280762,\n",
       "  0.17654763162136078,\n",
       "  0.17338886857032776,\n",
       "  0.17069248855113983,\n",
       "  0.16835130751132965,\n",
       "  0.16550858318805695],\n",
       " 'accuracy': [0.764054536819458,\n",
       "  0.8296181559562683,\n",
       "  0.8450000286102295,\n",
       "  0.8545818328857422,\n",
       "  0.8592545390129089,\n",
       "  0.8652727007865906,\n",
       "  0.868327260017395,\n",
       "  0.8726181983947754,\n",
       "  0.8772545456886292,\n",
       "  0.8808181881904602,\n",
       "  0.8841636180877686,\n",
       "  0.885309100151062,\n",
       "  0.8882908821105957,\n",
       "  0.8906000256538391,\n",
       "  0.8931090831756592,\n",
       "  0.8943818211555481,\n",
       "  0.8963817954063416,\n",
       "  0.8980181813240051,\n",
       "  0.9006363749504089,\n",
       "  0.9031636118888855,\n",
       "  0.9041091203689575,\n",
       "  0.906000018119812,\n",
       "  0.9076908826828003,\n",
       "  0.9090545177459717,\n",
       "  0.9109636545181274,\n",
       "  0.9126909375190735,\n",
       "  0.91356360912323,\n",
       "  0.914654552936554,\n",
       "  0.9165454506874084,\n",
       "  0.9168909192085266,\n",
       "  0.918963611125946,\n",
       "  0.9211454391479492,\n",
       "  0.9217454791069031,\n",
       "  0.9231091141700745,\n",
       "  0.9240000247955322,\n",
       "  0.92574542760849,\n",
       "  0.9276000261306763,\n",
       "  0.9290000200271606,\n",
       "  0.928636372089386,\n",
       "  0.9308727383613586,\n",
       "  0.9305999875068665,\n",
       "  0.9323636293411255,\n",
       "  0.934109091758728,\n",
       "  0.9349454641342163,\n",
       "  0.9358363747596741,\n",
       "  0.9362727403640747,\n",
       "  0.9380000233650208,\n",
       "  0.9398727416992188,\n",
       "  0.9403091073036194,\n",
       "  0.9414363503456116],\n",
       " 'val_loss': [0.5320276618003845,\n",
       "  0.4406092166900635,\n",
       "  0.4192761778831482,\n",
       "  0.39539510011672974,\n",
       "  0.3870644271373749,\n",
       "  0.37163251638412476,\n",
       "  0.3852824568748474,\n",
       "  0.3656125068664551,\n",
       "  0.3505902588367462,\n",
       "  0.3515423834323883,\n",
       "  0.3445926010608673,\n",
       "  0.33155086636543274,\n",
       "  0.35563287138938904,\n",
       "  0.3379007875919342,\n",
       "  0.32195672392845154,\n",
       "  0.3152419924736023,\n",
       "  0.3168918490409851,\n",
       "  0.3124732971191406,\n",
       "  0.3081754744052887,\n",
       "  0.3419209122657776,\n",
       "  0.32556962966918945,\n",
       "  0.3391498029232025,\n",
       "  0.30111730098724365,\n",
       "  0.3124370574951172,\n",
       "  0.30969810485839844,\n",
       "  0.3005475699901581,\n",
       "  0.3224948048591614,\n",
       "  0.30896317958831787,\n",
       "  0.30500826239585876,\n",
       "  0.3252109885215759,\n",
       "  0.3018232583999634,\n",
       "  0.3022162914276123,\n",
       "  0.3138333559036255,\n",
       "  0.3114098608493805,\n",
       "  0.2899704873561859,\n",
       "  0.3220876157283783,\n",
       "  0.29496994614601135,\n",
       "  0.29818013310432434,\n",
       "  0.2928568720817566,\n",
       "  0.30224376916885376,\n",
       "  0.302700400352478,\n",
       "  0.3027346134185791,\n",
       "  0.30409929156303406,\n",
       "  0.29143550992012024,\n",
       "  0.3055916130542755,\n",
       "  0.2957543730735779,\n",
       "  0.2982945740222931,\n",
       "  0.30023401975631714,\n",
       "  0.3030971884727478,\n",
       "  0.29814496636390686],\n",
       " 'val_accuracy': [0.8176000118255615,\n",
       "  0.850600004196167,\n",
       "  0.8582000136375427,\n",
       "  0.8640000224113464,\n",
       "  0.8651999831199646,\n",
       "  0.8715999722480774,\n",
       "  0.8651999831199646,\n",
       "  0.870199978351593,\n",
       "  0.8769999742507935,\n",
       "  0.878600001335144,\n",
       "  0.8708000183105469,\n",
       "  0.8820000290870667,\n",
       "  0.8712000250816345,\n",
       "  0.8795999884605408,\n",
       "  0.8835999965667725,\n",
       "  0.8859999775886536,\n",
       "  0.8873999714851379,\n",
       "  0.885200023651123,\n",
       "  0.8899999856948853,\n",
       "  0.8705999851226807,\n",
       "  0.8822000026702881,\n",
       "  0.8787999749183655,\n",
       "  0.8934000134468079,\n",
       "  0.8862000107765198,\n",
       "  0.8880000114440918,\n",
       "  0.8924000263214111,\n",
       "  0.8866000175476074,\n",
       "  0.8885999917984009,\n",
       "  0.8895999789237976,\n",
       "  0.8840000033378601,\n",
       "  0.892799973487854,\n",
       "  0.8906000256538391,\n",
       "  0.8907999992370605,\n",
       "  0.8907999992370605,\n",
       "  0.8996000289916992,\n",
       "  0.8903999924659729,\n",
       "  0.895799994468689,\n",
       "  0.8949999809265137,\n",
       "  0.8956000208854675,\n",
       "  0.8912000060081482,\n",
       "  0.8921999931335449,\n",
       "  0.8953999876976013,\n",
       "  0.894599974155426,\n",
       "  0.8966000080108643,\n",
       "  0.892799973487854,\n",
       "  0.8938000202178955,\n",
       "  0.8944000005722046,\n",
       "  0.8971999883651733,\n",
       "  0.8966000080108643,\n",
       "  0.8956000208854675]}"
      ]
     },
     "execution_count": 34,
     "metadata": {},
     "output_type": "execute_result"
    }
   ],
   "source": [
    "cm_history.history"
   ]
  },
  {
   "cell_type": "code",
   "execution_count": 35,
   "id": "6b79e099",
   "metadata": {},
   "outputs": [
    {
     "data": {
      "text/plain": [
       "{'verbose': 1, 'epochs': 50, 'steps': 1719}"
      ]
     },
     "execution_count": 35,
     "metadata": {},
     "output_type": "execute_result"
    }
   ],
   "source": [
    "cm_history.params"
   ]
  },
  {
   "cell_type": "code",
   "execution_count": 37,
   "id": "5c769d47",
   "metadata": {},
   "outputs": [
    {
     "data": {
      "text/plain": [
       "(0.0, 1.0)"
      ]
     },
     "execution_count": 37,
     "metadata": {},
     "output_type": "execute_result"
    },
    {
     "data": {
      "image/png": "[encoded data removed]",
      "text/plain": [
       "<Figure size 576x360 with 1 Axes>"
      ]
     },
     "metadata": {
      "needs_background": "light"
     },
     "output_type": "display_data"
    }
   ],
   "source": [
    "pd.DataFrame(cm_history.history).plot(figsize=(8,5))\n",
    "plt.grid(True)\n",
    "plt.gca().set_ylim(0,1)"
   ]
  },
  {
   "cell_type": "code",
   "execution_count": 38,
   "id": "6573b414",
   "metadata": {},
   "outputs": [
    {
     "name": "stdout",
     "output_type": "stream",
     "text": [
      "313/313 [==============================] - 2s 3ms/step - loss: 0.3269 - accuracy: 0.8898\n"
     ]
    },
    {
     "data": {
      "text/plain": [
       "[0.32690706849098206, 0.8898000121116638]"
      ]
     },
     "execution_count": 38,
     "metadata": {},
     "output_type": "execute_result"
    }
   ],
   "source": [
    "cm.evaluate(x_test, y_test)"
   ]
  },
  {
   "cell_type": "code",
   "execution_count": 40,
   "id": "2adec3a8",
   "metadata": {},
   "outputs": [
    {
     "data": {
      "text/plain": [
       "array([[0.  , 0.  , 0.  , ..., 0.01, 0.  , 0.99],\n",
       "       [0.  , 0.  , 0.99, ..., 0.  , 0.  , 0.  ],\n",
       "       [0.  , 1.  , 0.  , ..., 0.  , 0.  , 0.  ],\n",
       "       ...,\n",
       "       [0.  , 0.  , 0.  , ..., 0.  , 1.  , 0.  ],\n",
       "       [0.  , 1.  , 0.  , ..., 0.  , 0.  , 0.  ],\n",
       "       [0.  , 0.  , 0.  , ..., 0.  , 0.  , 0.  ]], dtype=float32)"
      ]
     },
     "execution_count": 40,
     "metadata": {},
     "output_type": "execute_result"
    }
   ],
   "source": [
    "y_prob = cm.predict(x_test)\n",
    "y_prob.round(2)"
   ]
  },
  {
   "cell_type": "code",
   "execution_count": 42,
   "id": "77701e6f",
   "metadata": {},
   "outputs": [
    {
     "data": {
      "text/plain": [
       "array([[1.2117673e-07, 1.8210768e-08, 5.7103148e-06, ..., 5.7788580e-03,\n",
       "        3.3607856e-05, 9.9374443e-01],\n",
       "       [8.5063381e-05, 1.7202448e-09, 9.8998570e-01, ..., 4.4336930e-12,\n",
       "        1.1034521e-09, 8.0529306e-13],\n",
       "       [5.9490588e-08, 9.9999964e-01, 4.3583785e-09, ..., 1.4751363e-10,\n",
       "        2.9908240e-10, 4.3078124e-14],\n",
       "       ...,\n",
       "       [2.8680879e-04, 7.2205734e-07, 2.9812535e-04, ..., 2.4852261e-06,\n",
       "        9.9894542e-01, 3.1520639e-08],\n",
       "       [6.3753614e-06, 9.9996865e-01, 5.4007774e-07, ..., 1.0778981e-08,\n",
       "        3.6781098e-09, 6.2703457e-08],\n",
       "       [1.3103424e-06, 1.6370519e-06, 1.0955083e-05, ..., 3.0713102e-03,\n",
       "        1.1644351e-04, 8.1981816e-06]], dtype=float32)"
      ]
     },
     "execution_count": 42,
     "metadata": {},
     "output_type": "execute_result"
    }
   ],
   "source": [
    "y_prob"
   ]
  },
  {
   "cell_type": "code",
   "execution_count": 43,
   "id": "bfb47f51",
   "metadata": {},
   "outputs": [
    {
     "data": {
      "text/plain": [
       "array([[0.  , 0.  , 0.  , 0.  , 0.  , 0.  , 0.  , 0.01, 0.  , 0.99],\n",
       "       [0.  , 0.  , 0.99, 0.  , 0.01, 0.  , 0.  , 0.  , 0.  , 0.  ],\n",
       "       [0.  , 1.  , 0.  , 0.  , 0.  , 0.  , 0.  , 0.  , 0.  , 0.  ],\n",
       "       [0.  , 1.  , 0.  , 0.  , 0.  , 0.  , 0.  , 0.  , 0.  , 0.  ],\n",
       "       [0.26, 0.  , 0.02, 0.  , 0.  , 0.  , 0.72, 0.  , 0.  , 0.  ],\n",
       "       [0.  , 1.  , 0.  , 0.  , 0.  , 0.  , 0.  , 0.  , 0.  , 0.  ],\n",
       "       [0.  , 0.  , 0.  , 0.  , 0.99, 0.  , 0.  , 0.  , 0.  , 0.  ]],\n",
       "      dtype=float32)"
      ]
     },
     "execution_count": 43,
     "metadata": {},
     "output_type": "execute_result"
    }
   ],
   "source": [
    "y_prob2 = cm.predict(x_test[:7])\n",
    "y_prob2.round(2)"
   ]
  },
  {
   "cell_type": "code",
   "execution_count": null,
   "id": "cadc1147",
   "metadata": {},
   "outputs": [],
   "source": []
  }
 ],
 "metadata": {
  "kernelspec": {
   "display_name": "Python 3 (ipykernel)",
   "language": "python",
   "name": "python3"
  },
  "language_info": {
   "codemirror_mode": {
    "name": "ipython",
    "version": 3
   },
   "file_extension": ".py",
   "mimetype": "text/x-python",
   "name": "python",
   "nbconvert_exporter": "python",
   "pygments_lexer": "ipython3",
   "version": "3.9.12"
  }
 },
 "nbformat": 4,
 "nbformat_minor": 5
}
